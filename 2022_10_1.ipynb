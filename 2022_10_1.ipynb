{
  "nbformat": 4,
  "nbformat_minor": 0,
  "metadata": {
    "colab": {
      "provenance": [],
      "collapsed_sections": [],
      "include_colab_link": true
    },
    "kernelspec": {
      "name": "python3",
      "display_name": "Python 3"
    },
    "language_info": {
      "name": "python"
    }
  },
  "cells": [
    {
      "cell_type": "markdown",
      "metadata": {
        "id": "view-in-github",
        "colab_type": "text"
      },
      "source": [
        "<a href=\"https://colab.research.google.com/github/Simmonslin/109-2-app101/blob/main/2022_10_1.ipynb\" target=\"_parent\"><img src=\"https://colab.research.google.com/assets/colab-badge.svg\" alt=\"Open In Colab\"/></a>"
      ]
    },
    {
      "cell_type": "markdown",
      "source": [
        "## Start a new project\n",
        "\n",
        "Ctrl+j"
      ],
      "metadata": {
        "id": "eqTnBYzg99J4"
      }
    },
    {
      "cell_type": "code",
      "source": [
        "%%terminal\n",
        "npm init -y"
      ],
      "metadata": {
        "id": "QgLyJLKJ-Lwe"
      },
      "execution_count": null,
      "outputs": []
    },
    {
      "cell_type": "markdown",
      "source": [
        "1. Creat an index.html file. \n",
        "2. Visit [bootstrap](https://getbootstrap.com/), copy paste its html setup.\n",
        "3. Add [jQuery](https://releases.jquery.com/) to html\n",
        "\n",
        "\n",
        "```\n",
        "<script src=\"https://code.jquery.com/jquery-3.6.1.min.js\" integrity=\"sha256-o88AwQnZB+VDvE9tvIXrMQaPlFFSUTR+nldQm1LuPXQ=\" crossorigin=\"anonymous\"></script>\n",
        "```\n",
        "\n"
      ],
      "metadata": {
        "id": "W43aX5Mi_sy2"
      }
    },
    {
      "cell_type": "markdown",
      "source": [
        "\n",
        "1. Create an index.js file.\n",
        "2. link your index.html file to it via\n",
        "```\n",
        "<script src=\"./index.js\"><script/>\n",
        "```\n",
        "\n"
      ],
      "metadata": {
        "id": "PlnT8jDsAbts"
      }
    },
    {
      "cell_type": "markdown",
      "source": [
        "Test by\n",
        "1. add `<div id=\"myapp\"></div>` to body.\n",
        "2. In index.js \n",
        "\n",
        "\n",
        "```\n",
        "$(function(){\n",
        "\n",
        "}\n",
        "```\n",
        "\n"
      ],
      "metadata": {
        "id": "O4rUazfzBH6_"
      }
    },
    {
      "cell_type": "markdown",
      "source": [
        "# USR App\n",
        "\n",
        "  * https://ntpu-usr.web.app/\n",
        "\n",
        "## Backend\n",
        "\n",
        "  * [Google Sheets](https://docs.google.com/spreadsheets/d/1-yyx_8oFVJ1lJ0x6ZEWP_fUf4VIX0Lcz__aGKVESTbY/edit?usp=sharing)"
      ],
      "metadata": {
        "id": "E2jiuijhFVHz"
      }
    }
  ]
}